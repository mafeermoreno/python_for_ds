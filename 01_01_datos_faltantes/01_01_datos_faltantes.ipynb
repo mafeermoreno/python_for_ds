{
 "cells": [
  {
   "cell_type": "markdown",
   "metadata": {},
   "source": [
    "# Calculate the number of missing values per column"
   ]
  },
  {
   "cell_type": "code",
   "execution_count": 1,
   "metadata": {},
   "outputs": [],
   "source": [
    "import pandas as pd"
   ]
  },
  {
   "cell_type": "markdown",
   "metadata": {},
   "source": [
    "## Read the csv file"
   ]
  },
  {
   "cell_type": "code",
   "execution_count": 2,
   "metadata": {},
   "outputs": [],
   "source": [
    "df = pd.read_csv('empleados.csv', delimiter=\";\")"
   ]
  },
  {
   "cell_type": "markdown",
   "metadata": {},
   "source": [
    "## Print the column names"
   ]
  },
  {
   "cell_type": "code",
   "execution_count": 3,
   "metadata": {},
   "outputs": [
    {
     "name": "stdout",
     "output_type": "stream",
     "text": [
      "Index(['Nombre', 'Apellido', 'Sexo', 'Estado_Civil', 'Edad', 'Experiencia',\n",
      "       'Salario', 'Gerencia', 'Departamento'],\n",
      "      dtype='object')\n"
     ]
    }
   ],
   "source": [
    "print(df.columns)"
   ]
  },
  {
   "cell_type": "code",
   "execution_count": 4,
   "metadata": {},
   "outputs": [
    {
     "name": "stdout",
     "output_type": "stream",
     "text": [
      "      Nombre  Apellido       Sexo Estado_Civil  Edad  Experiencia  Salario  \\\n",
      "0  Alexandro       NaN  Masculino   Soltero(a)  22.0          3.0   2423.0   \n",
      "1     Carlos       NaN  Masculino    Casado(a)  38.0         10.0   3132.0   \n",
      "2     Felipa       NaN   Femenino   Soltero(a)  26.0          5.0   2639.0   \n",
      "3     Daniel       NaN  Masculino    Casado(a)  35.0         10.0   3122.0   \n",
      "4       John       NaN  Masculino    Casado(a)  35.0         13.0   3431.0   \n",
      "\n",
      "  Gerencia          Departamento  \n",
      "0       No            Publicidad  \n",
      "1       Sí                   NaN  \n",
      "2       No             Comercial  \n",
      "3       No             Comercial  \n",
      "4       Sí  Servicios al cliente  \n"
     ]
    }
   ],
   "source": [
    "print(df.head(5))"
   ]
  },
  {
   "cell_type": "markdown",
   "metadata": {},
   "source": [
    "## Number of Null values per column"
   ]
  },
  {
   "cell_type": "code",
   "execution_count": 5,
   "metadata": {},
   "outputs": [
    {
     "name": "stdout",
     "output_type": "stream",
     "text": [
      "Nombre            6\n",
      "Apellido        251\n",
      "Sexo             37\n",
      "Estado_Civil      4\n",
      "Edad             61\n",
      "Experiencia       4\n",
      "Salario           6\n",
      "Gerencia         21\n",
      "Departamento     12\n",
      "dtype: int64\n"
     ]
    }
   ],
   "source": [
    "null_counts = df.isnull().sum()\n",
    "print(null_counts)  "
   ]
  },
  {
   "cell_type": "code",
   "execution_count": 6,
   "metadata": {},
   "outputs": [
    {
     "name": "stdout",
     "output_type": "stream",
     "text": [
      "Nombre          245\n",
      "Apellido          0\n",
      "Sexo            214\n",
      "Estado_Civil    247\n",
      "Edad            190\n",
      "Experiencia     247\n",
      "Salario         245\n",
      "Gerencia        230\n",
      "Departamento    239\n",
      "dtype: int64\n"
     ]
    }
   ],
   "source": [
    "null_counts = df.notnull().sum()\n",
    "print(null_counts)"
   ]
  }
 ],
 "metadata": {
  "kernelspec": {
   "display_name": "Python 3",
   "language": "python",
   "name": "python3"
  },
  "language_info": {
   "codemirror_mode": {
    "name": "ipython",
    "version": 3
   },
   "file_extension": ".py",
   "mimetype": "text/x-python",
   "name": "python",
   "nbconvert_exporter": "python",
   "pygments_lexer": "ipython3",
   "version": "3.10.11"
  },
  "orig_nbformat": 4
 },
 "nbformat": 4,
 "nbformat_minor": 2
}
