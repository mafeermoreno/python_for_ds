{
 "cells": [
  {
   "cell_type": "markdown",
   "metadata": {},
   "source": [
    "# Delete column with the most missing values"
   ]
  },
  {
   "cell_type": "code",
   "execution_count": 1,
   "metadata": {},
   "outputs": [],
   "source": [
    "import pandas as pd"
   ]
  },
  {
   "cell_type": "code",
   "execution_count": 2,
   "metadata": {},
   "outputs": [],
   "source": [
    "df = pd.read_csv('empleados.csv', delimiter=\";\")"
   ]
  },
  {
   "cell_type": "code",
   "execution_count": 4,
   "metadata": {},
   "outputs": [
    {
     "name": "stdout",
     "output_type": "stream",
     "text": [
      "      Nombre  Apellido       Sexo Estado_Civil  Edad  Experiencia  Salario  \\\n",
      "0  Alexandro       NaN  Masculino   Soltero(a)  22.0          3.0   2423.0   \n",
      "1     Carlos       NaN  Masculino    Casado(a)  38.0         10.0   3132.0   \n",
      "2     Felipa       NaN   Femenino   Soltero(a)  26.0          5.0   2639.0   \n",
      "3     Daniel       NaN  Masculino    Casado(a)  35.0         10.0   3122.0   \n",
      "4       John       NaN  Masculino    Casado(a)  35.0         13.0   3431.0   \n",
      "\n",
      "  Gerencia          Departamento  \n",
      "0       No            Publicidad  \n",
      "1       Sí                   NaN  \n",
      "2       No             Comercial  \n",
      "3       No             Comercial  \n",
      "4       Sí  Servicios al cliente  \n"
     ]
    }
   ],
   "source": [
    "print(df.head(5))"
   ]
  },
  {
   "cell_type": "code",
   "execution_count": 5,
   "metadata": {},
   "outputs": [
    {
     "name": "stdout",
     "output_type": "stream",
     "text": [
      "(251, 9)\n"
     ]
    }
   ],
   "source": [
    "print(df.shape)"
   ]
  },
  {
   "cell_type": "code",
   "execution_count": 6,
   "metadata": {},
   "outputs": [
    {
     "name": "stdout",
     "output_type": "stream",
     "text": [
      "Nombre            6\n",
      "Apellido        251\n",
      "Sexo             37\n",
      "Estado_Civil      4\n",
      "Edad             61\n",
      "Experiencia       4\n",
      "Salario           6\n",
      "Gerencia         21\n",
      "Departamento     12\n",
      "dtype: int64\n"
     ]
    }
   ],
   "source": [
    "missing_values = df.isnull().sum()\n",
    "print(missing_values)"
   ]
  },
  {
   "cell_type": "markdown",
   "metadata": {},
   "source": [
    "## Delete the column that has the biggest number of missing values (Apellido)"
   ]
  },
  {
   "cell_type": "code",
   "execution_count": 7,
   "metadata": {},
   "outputs": [
    {
     "name": "stdout",
     "output_type": "stream",
     "text": [
      "      Nombre       Sexo Estado_Civil  Edad  Experiencia  Salario Gerencia  \\\n",
      "0  Alexandro  Masculino   Soltero(a)  22.0          3.0   2423.0       No   \n",
      "1     Carlos  Masculino    Casado(a)  38.0         10.0   3132.0       Sí   \n",
      "2     Felipa   Femenino   Soltero(a)  26.0          5.0   2639.0       No   \n",
      "3     Daniel  Masculino    Casado(a)  35.0         10.0   3122.0       No   \n",
      "4       John  Masculino    Casado(a)  35.0         13.0   3431.0       Sí   \n",
      "\n",
      "           Departamento  \n",
      "0            Publicidad  \n",
      "1                   NaN  \n",
      "2             Comercial  \n",
      "3             Comercial  \n",
      "4  Servicios al cliente  \n"
     ]
    }
   ],
   "source": [
    "new_df = df.drop(columns=['Apellido'])\n",
    "print(new_df.head(5))"
   ]
  }
 ],
 "metadata": {
  "kernelspec": {
   "display_name": "Python 3",
   "language": "python",
   "name": "python3"
  },
  "language_info": {
   "codemirror_mode": {
    "name": "ipython",
    "version": 3
   },
   "file_extension": ".py",
   "mimetype": "text/x-python",
   "name": "python",
   "nbconvert_exporter": "python",
   "pygments_lexer": "ipython3",
   "version": "3.10.11"
  },
  "orig_nbformat": 4
 },
 "nbformat": 4,
 "nbformat_minor": 2
}
