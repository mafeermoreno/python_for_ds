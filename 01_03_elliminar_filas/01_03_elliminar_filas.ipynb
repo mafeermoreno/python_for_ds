{
 "cells": [
  {
   "cell_type": "markdown",
   "metadata": {},
   "source": [
    "# Delete rows with missing values"
   ]
  },
  {
   "cell_type": "code",
   "execution_count": 1,
   "metadata": {},
   "outputs": [],
   "source": [
    "import pandas as pd"
   ]
  },
  {
   "cell_type": "code",
   "execution_count": 2,
   "metadata": {},
   "outputs": [],
   "source": [
    "df = pd.read_csv('empleados.csv', delimiter=\";\")"
   ]
  },
  {
   "cell_type": "code",
   "execution_count": 3,
   "metadata": {},
   "outputs": [
    {
     "name": "stdout",
     "output_type": "stream",
     "text": [
      "       Nombre       Sexo   Estado_Civil  Edad  Experiencia  Salario Gerencia  \\\n",
      "0   Alexandro  Masculino     Soltero(a)  22.0          3.0   2423.0       No   \n",
      "1      Carlos  Masculino      Casado(a)  38.0         10.0   3132.0       Sí   \n",
      "2      Felipa   Femenino     Soltero(a)  26.0          5.0   2639.0       No   \n",
      "3      Daniel  Masculino      Casado(a)  35.0         10.0   3122.0       No   \n",
      "4        John  Masculino      Casado(a)  35.0         13.0   3431.0       Sí   \n",
      "5      Edward  Masculino     Soltero(a)   NaN          NaN   4500.0       No   \n",
      "6     Ruperta   Femenino      Casado(a)  54.0         18.0   3962.0       No   \n",
      "7       Amaya   Femenino  Divorciado(a)  22.0          3.0   2450.0      NaN   \n",
      "8   Francisca   Femenino     Soltero(a)  27.0          4.0   2564.0       No   \n",
      "9      Selena   Femenino      Casado(a)  24.0          6.0   2709.0       Sí   \n",
      "10       Febe   Femenino      Casado(a)  44.0         22.0   4359.0       No   \n",
      "11     Ximena   Femenino     Soltero(a)  58.0         24.0   4532.0       No   \n",
      "12      David  Masculino  Divorciado(a)  20.0          1.0   1977.0       No   \n",
      "13        Max  Masculino  Divorciado(a)  39.0          8.0   2953.0       No   \n",
      "14     Selena   Femenino      Casado(a)  24.0          6.0   2709.0       Sí   \n",
      "15        NaN   Femenino            NaN  44.0         22.0      NaN      NaN   \n",
      "16      Paula   Femenino  Divorciado(a)  55.0         12.0   3306.0       No   \n",
      "17        Tim  Masculino  Divorciado(a)  22.0          4.0   2518.0       No   \n",
      "18     Andrew  Masculino  Divorciado(a)   NaN         10.0   3194.0       No   \n",
      "19     Gloria   Femenino      Casado(a)  31.0         11.0   3267.0       No   \n",
      "\n",
      "            Departamento  \n",
      "0             Publicidad  \n",
      "1                    NaN  \n",
      "2              Comercial  \n",
      "3              Comercial  \n",
      "4   Servicios al cliente  \n",
      "5                  Legal  \n",
      "6               Producto  \n",
      "7              Comercial  \n",
      "8                     IT  \n",
      "9           Contabilidad  \n",
      "10                   NaN  \n",
      "11                 Legal  \n",
      "12      Recursos Humanos  \n",
      "13                Ventas  \n",
      "14          Contabilidad  \n",
      "15                   NaN  \n",
      "16              Producto  \n",
      "17      Recursos Humanos  \n",
      "18              Producto  \n",
      "19  Servicios al cliente  \n"
     ]
    }
   ],
   "source": [
    "print(df.head(20))"
   ]
  },
  {
   "cell_type": "code",
   "execution_count": 4,
   "metadata": {},
   "outputs": [
    {
     "name": "stdout",
     "output_type": "stream",
     "text": [
      "(251, 8)\n"
     ]
    }
   ],
   "source": [
    "print(df.shape)"
   ]
  },
  {
   "cell_type": "markdown",
   "metadata": {},
   "source": [
    "## Show rows that have at least 1 missing value"
   ]
  },
  {
   "cell_type": "code",
   "execution_count": 6,
   "metadata": {},
   "outputs": [
    {
     "name": "stdout",
     "output_type": "stream",
     "text": [
      "     Nombre       Sexo   Estado_Civil  Edad  Experiencia  Salario Gerencia  \\\n",
      "1    Carlos  Masculino      Casado(a)  38.0         10.0   3132.0       Sí   \n",
      "5    Edward  Masculino     Soltero(a)   NaN          NaN   4500.0       No   \n",
      "7     Amaya   Femenino  Divorciado(a)  22.0          3.0   2450.0      NaN   \n",
      "10     Febe   Femenino      Casado(a)  44.0         22.0   4359.0       No   \n",
      "15      NaN   Femenino            NaN  44.0         22.0      NaN      NaN   \n",
      "..      ...        ...            ...   ...          ...      ...      ...   \n",
      "241  Robert        NaN     Soltero(a)  33.0         11.0   3267.0       No   \n",
      "242   Kevin        NaN  Divorciado(a)   NaN         20.0   4166.0       No   \n",
      "243   Amaro  Masculino      Casado(a)   NaN         24.0   4510.0       No   \n",
      "248    Eric        NaN      Casado(a)  25.0          7.0   2880.0       Sí   \n",
      "249    Marc        NaN      Casado(a)  24.0          2.0   2172.0       No   \n",
      "\n",
      "         Departamento  \n",
      "1                 NaN  \n",
      "5               Legal  \n",
      "7           Comercial  \n",
      "10                NaN  \n",
      "15                NaN  \n",
      "..                ...  \n",
      "241  Recursos Humanos  \n",
      "242          Finanzas  \n",
      "243         Comercial  \n",
      "248  Recursos Humanos  \n",
      "249          Producto  \n",
      "\n",
      "[106 rows x 8 columns]\n"
     ]
    }
   ],
   "source": [
    "print(df[df.isnull().any(axis=1)])"
   ]
  },
  {
   "cell_type": "markdown",
   "metadata": {},
   "source": [
    "## Delete rows with missing values"
   ]
  },
  {
   "cell_type": "code",
   "execution_count": 7,
   "metadata": {},
   "outputs": [
    {
     "name": "stdout",
     "output_type": "stream",
     "text": [
      "        Nombre       Sexo   Estado_Civil  Edad  Experiencia  Salario Gerencia  \\\n",
      "0    Alexandro  Masculino     Soltero(a)  22.0          3.0   2423.0       No   \n",
      "2       Felipa   Femenino     Soltero(a)  26.0          5.0   2639.0       No   \n",
      "3       Daniel  Masculino      Casado(a)  35.0         10.0   3122.0       No   \n",
      "4         John  Masculino      Casado(a)  35.0         13.0   3431.0       Sí   \n",
      "6      Ruperta   Femenino      Casado(a)  54.0         18.0   3962.0       No   \n",
      "..         ...        ...            ...   ...          ...      ...      ...   \n",
      "244   Hernando  Masculino  Divorciado(a)  29.0          4.0   2510.0       No   \n",
      "245       Vito  Masculino  Divorciado(a)  22.0          4.0   2530.0       No   \n",
      "246       Jose  Masculino      Casado(a)  30.0          6.0   2760.0       No   \n",
      "247    Marcelo  Masculino  Divorciado(a)  44.0         15.0   3616.0       No   \n",
      "250    Leandro  Masculino      Casado(a)  37.0         11.0   3245.0       No   \n",
      "\n",
      "             Departamento  \n",
      "0              Publicidad  \n",
      "2               Comercial  \n",
      "3               Comercial  \n",
      "4    Servicios al cliente  \n",
      "6                Producto  \n",
      "..                    ...  \n",
      "244                    IT  \n",
      "245              Producto  \n",
      "246  Servicios al cliente  \n",
      "247                    IT  \n",
      "250              Finanzas  \n",
      "\n",
      "[145 rows x 8 columns]\n"
     ]
    }
   ],
   "source": [
    "new_df = df.dropna(axis=0)\n",
    "print(new_df)"
   ]
  },
  {
   "cell_type": "markdown",
   "metadata": {},
   "source": [
    "## Delete rows that don't have at least 5 values"
   ]
  },
  {
   "cell_type": "code",
   "execution_count": 8,
   "metadata": {},
   "outputs": [
    {
     "name": "stdout",
     "output_type": "stream",
     "text": [
      "        Nombre       Sexo   Estado_Civil  Edad  Experiencia  Salario Gerencia  \\\n",
      "0    Alexandro  Masculino     Soltero(a)  22.0          3.0   2423.0       No   \n",
      "1       Carlos  Masculino      Casado(a)  38.0         10.0   3132.0       Sí   \n",
      "2       Felipa   Femenino     Soltero(a)  26.0          5.0   2639.0       No   \n",
      "3       Daniel  Masculino      Casado(a)  35.0         10.0   3122.0       No   \n",
      "4         John  Masculino      Casado(a)  35.0         13.0   3431.0       Sí   \n",
      "..         ...        ...            ...   ...          ...      ...      ...   \n",
      "246       Jose  Masculino      Casado(a)  30.0          6.0   2760.0       No   \n",
      "247    Marcelo  Masculino  Divorciado(a)  44.0         15.0   3616.0       No   \n",
      "248       Eric        NaN      Casado(a)  25.0          7.0   2880.0       Sí   \n",
      "249       Marc        NaN      Casado(a)  24.0          2.0   2172.0       No   \n",
      "250    Leandro  Masculino      Casado(a)  37.0         11.0   3245.0       No   \n",
      "\n",
      "             Departamento  \n",
      "0              Publicidad  \n",
      "1                     NaN  \n",
      "2               Comercial  \n",
      "3               Comercial  \n",
      "4    Servicios al cliente  \n",
      "..                    ...  \n",
      "246  Servicios al cliente  \n",
      "247                    IT  \n",
      "248      Recursos Humanos  \n",
      "249              Producto  \n",
      "250              Finanzas  \n",
      "\n",
      "[246 rows x 8 columns]\n"
     ]
    }
   ],
   "source": [
    "valid_df = df.dropna(thresh=5)\n",
    "print(valid_df)"
   ]
  }
 ],
 "metadata": {
  "kernelspec": {
   "display_name": "Python 3",
   "language": "python",
   "name": "python3"
  },
  "language_info": {
   "codemirror_mode": {
    "name": "ipython",
    "version": 3
   },
   "file_extension": ".py",
   "mimetype": "text/x-python",
   "name": "python",
   "nbconvert_exporter": "python",
   "pygments_lexer": "ipython3",
   "version": "3.10.11"
  },
  "orig_nbformat": 4
 },
 "nbformat": 4,
 "nbformat_minor": 2
}
