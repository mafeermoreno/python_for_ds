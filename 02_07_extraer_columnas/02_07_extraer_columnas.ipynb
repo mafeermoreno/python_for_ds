{
 "cells": [
  {
   "cell_type": "markdown",
   "metadata": {},
   "source": [
    "# Extract float or int columns"
   ]
  },
  {
   "cell_type": "code",
   "execution_count": 4,
   "metadata": {},
   "outputs": [],
   "source": [
    "import pandas as pd"
   ]
  },
  {
   "cell_type": "code",
   "execution_count": 5,
   "metadata": {},
   "outputs": [],
   "source": [
    "df = pd.read_csv('emisiones.csv', delimiter=\";\")"
   ]
  },
  {
   "cell_type": "code",
   "execution_count": 6,
   "metadata": {},
   "outputs": [
    {
     "name": "stdout",
     "output_type": "stream",
     "text": [
      "<class 'pandas.core.frame.DataFrame'>\n",
      "RangeIndex: 99 entries, 0 to 98\n",
      "Data columns (total 6 columns):\n",
      " #   Column             Non-Null Count  Dtype  \n",
      "---  ------             --------------  -----  \n",
      " 0   Marca              99 non-null     object \n",
      " 1   Motor              99 non-null     float64\n",
      " 2   Cilindros          99 non-null     int64  \n",
      " 3   Consumo Ciudad     99 non-null     float64\n",
      " 4   Consumo Carretera  99 non-null     float64\n",
      " 5   CO2                99 non-null     int64  \n",
      "dtypes: float64(3), int64(2), object(1)\n",
      "memory usage: 4.8+ KB\n",
      "None\n"
     ]
    }
   ],
   "source": [
    "print(df.info())"
   ]
  },
  {
   "cell_type": "code",
   "execution_count": 9,
   "metadata": {},
   "outputs": [
    {
     "name": "stdout",
     "output_type": "stream",
     "text": [
      "    Motor  Cilindros  Consumo Ciudad  Consumo Carretera  CO2\n",
      "0     2.1          4            13.7                9.1  290\n",
      "1     2.6          4            12.7                8.6  327\n",
      "2     2.0          4            13.7                9.4  382\n",
      "3     4.3          4            14.3                9.0  347\n",
      "4     3.6          4            14.6               10.4  377\n",
      "..    ...        ...             ...                ...  ...\n",
      "94    3.7          4            16.7               10.3  248\n",
      "95    3.1          4            10.0                9.6  235\n",
      "96    3.6          4            11.5               10.2  239\n",
      "97    3.9          4             9.3               11.2  230\n",
      "98    2.1          4            12.2                7.2  278\n",
      "\n",
      "[99 rows x 5 columns]\n"
     ]
    }
   ],
   "source": [
    "number_columns = df.select_dtypes(include=['float64', 'int64'])\n",
    "print(number_columns)"
   ]
  }
 ],
 "metadata": {
  "kernelspec": {
   "display_name": "Python 3",
   "language": "python",
   "name": "python3"
  },
  "language_info": {
   "codemirror_mode": {
    "name": "ipython",
    "version": 3
   },
   "file_extension": ".py",
   "mimetype": "text/x-python",
   "name": "python",
   "nbconvert_exporter": "python",
   "pygments_lexer": "ipython3",
   "version": "3.10.11"
  },
  "orig_nbformat": 4
 },
 "nbformat": 4,
 "nbformat_minor": 2
}
