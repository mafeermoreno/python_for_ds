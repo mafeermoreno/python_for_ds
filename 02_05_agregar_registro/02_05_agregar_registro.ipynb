{
 "cells": [
  {
   "cell_type": "markdown",
   "metadata": {},
   "source": [
    "# Add a new entry into the dataframe"
   ]
  },
  {
   "cell_type": "code",
   "execution_count": 1,
   "metadata": {},
   "outputs": [],
   "source": [
    "import pandas as pd"
   ]
  },
  {
   "cell_type": "code",
   "execution_count": 2,
   "metadata": {},
   "outputs": [],
   "source": [
    "df = pd.read_csv('temperaturas.csv', delimiter=\";\")"
   ]
  },
  {
   "cell_type": "code",
   "execution_count": 3,
   "metadata": {},
   "outputs": [
    {
     "name": "stdout",
     "output_type": "stream",
     "text": [
      "     Año  Temperatura\n",
      "0   1960         71.4\n",
      "1   1961         71.9\n",
      "2   1962         71.9\n",
      "3   1963         72.3\n",
      "4   1964         71.7\n",
      "..   ...          ...\n",
      "57  2017         74.6\n",
      "58  2018         73.5\n",
      "59  2019         72.7\n",
      "60  2020         74.6\n",
      "61  2021         73.5\n",
      "\n",
      "[62 rows x 2 columns]\n"
     ]
    }
   ],
   "source": [
    "print(df)"
   ]
  },
  {
   "cell_type": "code",
   "execution_count": 6,
   "metadata": {},
   "outputs": [
    {
     "name": "stdout",
     "output_type": "stream",
     "text": [
      "     Año Temperatura\n",
      "0   1960        71.4\n",
      "1   1961        71.9\n",
      "2   1962        71.9\n",
      "3   1963        72.3\n",
      "4   1964        71.7\n",
      "..   ...         ...\n",
      "58  2018        73.5\n",
      "59  2019        72.7\n",
      "60  2020        74.6\n",
      "61  2021        73.5\n",
      "62  2022        74.3\n",
      "\n",
      "[63 rows x 2 columns]\n"
     ]
    }
   ],
   "source": [
    "nueva_temperatura = pd.DataFrame.from_dict([{'Año': '2022', 'Temperatura': '74.3'}])\n",
    "df = pd.concat([df, nueva_temperatura], ignore_index=True)\n",
    "print(df)"
   ]
  }
 ],
 "metadata": {
  "kernelspec": {
   "display_name": "Python 3",
   "language": "python",
   "name": "python3"
  },
  "language_info": {
   "codemirror_mode": {
    "name": "ipython",
    "version": 3
   },
   "file_extension": ".py",
   "mimetype": "text/x-python",
   "name": "python",
   "nbconvert_exporter": "python",
   "pygments_lexer": "ipython3",
   "version": "3.10.11"
  },
  "orig_nbformat": 4
 },
 "nbformat": 4,
 "nbformat_minor": 2
}
