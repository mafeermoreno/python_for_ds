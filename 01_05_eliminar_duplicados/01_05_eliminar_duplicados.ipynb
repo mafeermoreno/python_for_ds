{
 "cells": [
  {
   "cell_type": "markdown",
   "metadata": {},
   "source": [
    "# Delete duplicated inputs"
   ]
  },
  {
   "cell_type": "code",
   "execution_count": 3,
   "metadata": {},
   "outputs": [],
   "source": [
    "import pandas as pd"
   ]
  },
  {
   "cell_type": "code",
   "execution_count": 4,
   "metadata": {},
   "outputs": [],
   "source": [
    "df = pd.read_csv('empleados.csv', delimiter=\";\")"
   ]
  },
  {
   "cell_type": "code",
   "execution_count": 5,
   "metadata": {},
   "outputs": [
    {
     "name": "stdout",
     "output_type": "stream",
     "text": [
      "(145, 8)\n"
     ]
    }
   ],
   "source": [
    "print(df.shape)"
   ]
  },
  {
   "cell_type": "code",
   "execution_count": 6,
   "metadata": {},
   "outputs": [],
   "source": [
    "duplicados = df.duplicated()"
   ]
  },
  {
   "cell_type": "code",
   "execution_count": 7,
   "metadata": {},
   "outputs": [
    {
     "name": "stdout",
     "output_type": "stream",
     "text": [
      "    Nombre       Sexo Estado_Civil  Edad  Experiencia  Salario Gerencia  \\\n",
      "10  Selena   Femenino    Casado(a)    24            6     2709       Sí   \n",
      "34   Lucio  Masculino   Soltero(a)    54           12     3317       No   \n",
      "\n",
      "        Departamento  \n",
      "10      Contabilidad  \n",
      "34  Recursos Humanos  \n"
     ]
    }
   ],
   "source": [
    "print(df[duplicados])"
   ]
  },
  {
   "cell_type": "markdown",
   "metadata": {},
   "source": [
    "## Delete duplicated entries"
   ]
  },
  {
   "cell_type": "code",
   "execution_count": 8,
   "metadata": {},
   "outputs": [
    {
     "name": "stdout",
     "output_type": "stream",
     "text": [
      "        Nombre       Sexo   Estado_Civil  Edad  Experiencia  Salario Gerencia  \\\n",
      "0    Alexandro  Masculino     Soltero(a)    22            3     2423       No   \n",
      "1       Felipa   Femenino     Soltero(a)    26            5     2639       No   \n",
      "2       Daniel  Masculino      Casado(a)    35           10     3122       No   \n",
      "3         John  Masculino      Casado(a)    35           13     3431       Sí   \n",
      "4      Ruperta   Femenino      Casado(a)    54           18     3962       No   \n",
      "..         ...        ...            ...   ...          ...      ...      ...   \n",
      "140   Hernando  Masculino  Divorciado(a)    29            4     2510       No   \n",
      "141       Vito  Masculino  Divorciado(a)    22            4     2530       No   \n",
      "142       Jose  Masculino      Casado(a)    30            6     2760       No   \n",
      "143    Marcelo  Masculino  Divorciado(a)    44           15     3616       No   \n",
      "144    Leandro  Masculino      Casado(a)    37           11     3245       No   \n",
      "\n",
      "             Departamento  \n",
      "0              Publicidad  \n",
      "1               Comercial  \n",
      "2               Comercial  \n",
      "3    Servicios al cliente  \n",
      "4                Producto  \n",
      "..                    ...  \n",
      "140                    IT  \n",
      "141              Producto  \n",
      "142  Servicios al cliente  \n",
      "143                    IT  \n",
      "144              Finanzas  \n",
      "\n",
      "[143 rows x 8 columns]\n"
     ]
    }
   ],
   "source": [
    "df = df.drop_duplicates()   \n",
    "print(df)"
   ]
  }
 ],
 "metadata": {
  "kernelspec": {
   "display_name": "Python 3",
   "language": "python",
   "name": "python3"
  },
  "language_info": {
   "codemirror_mode": {
    "name": "ipython",
    "version": 3
   },
   "file_extension": ".py",
   "mimetype": "text/x-python",
   "name": "python",
   "nbconvert_exporter": "python",
   "pygments_lexer": "ipython3",
   "version": "3.10.11"
  },
  "orig_nbformat": 4
 },
 "nbformat": 4,
 "nbformat_minor": 2
}
